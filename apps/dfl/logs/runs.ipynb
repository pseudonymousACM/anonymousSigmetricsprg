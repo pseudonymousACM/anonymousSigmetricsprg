{
 "cells": [
  {
   "metadata": {},
   "cell_type": "markdown",
   "source": "# Logs Runs",
   "id": "4b92bf5ae0c9557f"
  },
  {
   "metadata": {},
   "cell_type": "code",
   "source": [
    "from pathlib import Path\n",
    "\n",
    "import pandas as pd\n",
    "import plotly.express as px\n",
    "\n",
    "import exts.px_exts as px_exts\n",
    "import prep\n",
    "from utils import figs_labels"
   ],
   "id": "f3adb109097b067c",
   "outputs": [],
   "execution_count": null
  },
  {
   "metadata": {},
   "cell_type": "code",
   "source": [
    "# RUNS_DIRS_PATHS = (\n",
    "# \tPath('./../runs/x/'),\n",
    "# \tPath('./../runs/y/'),\n",
    "# \tPath('./../runs/z/'),\n",
    "# )\n",
    "#\n",
    "# RUNS = {RUN_DIR_PATH.name: RUN_DIR_PATH for RUN_DIR_PATH in RUNS_DIRS_PATHS}\n",
    "# # Assert that all the keys would be unique and would not override each other.\n",
    "# assert len(RUNS_DIRS_PATHS) == len(set(RUN_DIR_PATH.name for RUN_DIR_PATH in RUNS_DIRS_PATHS))\n",
    "\n",
    "RUNS = {\n",
    "\t'x': Path('./../runs/x/'),\n",
    "\t'y': Path('./../runs/y/'),\n",
    "\t'z': Path('./../runs/z/'),\n",
    "}"
   ],
   "id": "47ab8229e1d419ad",
   "outputs": [],
   "execution_count": null
  },
  {
   "metadata": {},
   "cell_type": "markdown",
   "source": "## Accuracies",
   "id": "b50ce3fc838afea"
  },
  {
   "metadata": {},
   "cell_type": "code",
   "source": [
    "runs_accs_df = None\n",
    "\n",
    "for RUN_NAME, RUN_DIR_PATH in RUNS.items():\n",
    "\trun_accs_df = prep.accs(RUN_DIR_PATH)\n",
    "\trun_accs_df['run'] = RUN_NAME\n",
    "\n",
    "\truns_accs_df = run_accs_df if runs_accs_df is None else pd.concat([runs_accs_df, run_accs_df])\n",
    "\n",
    "runs_accs_df.sort_values('run', inplace=True, kind='stable')"
   ],
   "id": "a63114ab97a5aa11",
   "outputs": [],
   "execution_count": null
  },
  {
   "metadata": {},
   "cell_type": "markdown",
   "source": "### Means ± Stds.",
   "id": "a3639cec34c8f1d4"
  },
  {
   "metadata": {},
   "cell_type": "code",
   "source": [
    "runs_accs_mean_df = runs_accs_df.groupby(['run', 'round', 'type'], as_index=False) \\\n",
    "\t.agg(accuracy=('accuracy', 'mean'), std_acc=('accuracy', 'std'),\n",
    "         mean_loss=('mean_loss', 'mean'), std_loss=('mean_loss', 'std'))"
   ],
   "id": "ae1176fb23d4a68c",
   "outputs": [],
   "execution_count": null
  },
  {
   "metadata": {},
   "cell_type": "code",
   "source": [
    "px_exts.line(\n",
    "\truns_accs_mean_df[runs_accs_mean_df['type'] == 'test'],\n",
    "\tx='round', y='accuracy', color='run', error_y='std_acc',\n",
    "\tmarkers=False, error_y_mode='bands', error_y_band_alpha=0.15,\n",
    "\ttitle='Test Mean ± Std. (over nodes) Accuracy per Round', labels=figs_labels\n",
    ").show()\n",
    "\n",
    "px_exts.line(\n",
    "\truns_accs_mean_df[runs_accs_mean_df['type'] == 'test'],\n",
    "\tx='round', y='mean_loss', color='run', error_y='std_loss',\n",
    "\tmarkers=False, error_y_mode='bands', error_y_band_alpha=0.15,\n",
    "\ttitle='Test Mean ± Std. (over nodes) Loss per Round', labels=figs_labels\n",
    ").show()"
   ],
   "id": "4d6e91f54c03881b",
   "outputs": [],
   "execution_count": null
  },
  {
   "metadata": {},
   "cell_type": "code",
   "source": [
    "px_exts.line(\n",
    "\truns_accs_mean_df[(runs_accs_mean_df['type'] == 'test-pre-agg') | \\\n",
    "\t                  ((runs_accs_mean_df['type'] == 'test') & (runs_accs_mean_df['round'] == -1))],\n",
    "\tx='round', y='accuracy', color='run', error_y='std_acc',\n",
    "\tmarkers=False, error_y_mode='bands', error_y_band_alpha=0.15,\n",
    "\ttitle='Test Mean ± Std. (Pre-Agg.) (over nodes) Accuracy per Round', labels=figs_labels\n",
    ").show()\n",
    "\n",
    "px_exts.line(\n",
    "\truns_accs_mean_df[(runs_accs_mean_df['type'] == 'test-pre-agg') | \\\n",
    "\t                  ((runs_accs_mean_df['type'] == 'test') & (runs_accs_mean_df['round'] == -1))],\n",
    "\tx='round', y='mean_loss', color='run', error_y='std_loss',\n",
    "\tmarkers=False, error_y_mode='bands', error_y_band_alpha=0.15,\n",
    "\ttitle='Test Mean ± Std. (Pre-Agg.) (over nodes) Loss per Round', labels=figs_labels\n",
    ").show()"
   ],
   "id": "eaf7bf0656c25f81",
   "outputs": [],
   "execution_count": null
  },
  {
   "metadata": {},
   "cell_type": "code",
   "source": [
    "px_exts.line(\n",
    "\truns_accs_mean_df[runs_accs_mean_df['type'] == 'train'],\n",
    "\tx='round', y='accuracy', color='run', error_y='std_acc',\n",
    "\tmarkers=False, error_y_mode='bands', error_y_band_alpha=0.15,\n",
    "\ttitle='Train Mean ± Std. (over nodes) Accuracy per Round', labels=figs_labels\n",
    ").show()\n",
    "\n",
    "px_exts.line(\n",
    "\truns_accs_mean_df[runs_accs_mean_df['type'] == 'train'],\n",
    "\tx='round', y='mean_loss', color='run', error_y='std_loss',\n",
    "\tmarkers=False, error_y_mode='bands', error_y_band_alpha=0.15,\n",
    "\ttitle='Train Mean ± Std. (over nodes) Loss per Round', labels=figs_labels\n",
    ").show()"
   ],
   "id": "f93e1be7714ceca6",
   "outputs": [],
   "execution_count": null
  },
  {
   "metadata": {},
   "cell_type": "code",
   "source": [
    "px_exts.line(\n",
    "\truns_accs_mean_df[runs_accs_mean_df['type'] == 'raw-train'],\n",
    "\tx='round', y='accuracy', color='run', error_y='std_acc',\n",
    "\tmarkers=False, error_y_mode='bands', error_y_band_alpha=0.15,\n",
    "\ttitle='Raw Train Mean ± Std. (over nodes) Accuracy per Round', labels=figs_labels\n",
    ").show()\n",
    "\n",
    "px_exts.line(\n",
    "\truns_accs_mean_df[runs_accs_mean_df['type'] == 'raw-train'],\n",
    "\tx='round', y='mean_loss', color='run', error_y='std_loss',\n",
    "\tmarkers=False, error_y_mode='bands', error_y_band_alpha=0.15,\n",
    "\ttitle='Raw Train Mean ± Std. (over nodes) Loss per Round', labels=figs_labels\n",
    ").show()"
   ],
   "id": "b00901c16eaeb018",
   "outputs": [],
   "execution_count": null
  },
  {
   "metadata": {},
   "cell_type": "markdown",
   "source": "### Box Plots",
   "id": "2dd57b32985e6392"
  },
  {
   "metadata": {},
   "cell_type": "code",
   "source": [
    "px.box(\n",
    "\truns_accs_df[runs_accs_df['type'] == 'test'],\n",
    "\tx='round', y='accuracy', color='run', points=False, boxmode='overlay',\n",
    "\ttitle='Test Accuracy per Round', labels=figs_labels\n",
    ").show()\n",
    "\n",
    "px.box(\n",
    "\truns_accs_df[runs_accs_df['type'] == 'test'],\n",
    "\tx='round', y='mean_loss', color='run', points=False, boxmode='overlay',\n",
    "\ttitle='Test Loss per Round', labels=figs_labels\n",
    ").show()"
   ],
   "id": "806d0338350c434",
   "outputs": [],
   "execution_count": null
  },
  {
   "metadata": {},
   "cell_type": "code",
   "source": [
    "px.box(\n",
    "\truns_accs_df[runs_accs_df['type'] == 'train'],\n",
    "\tx='round', y='accuracy', color='run', points=False, boxmode='overlay',\n",
    "\ttitle='Train Accuracy per Round', labels=figs_labels\n",
    ").show()\n",
    "\n",
    "px.box(\n",
    "\truns_accs_df[runs_accs_df['type'] == 'train'],\n",
    "\tx='round', y='mean_loss', color='run', points=False, boxmode='overlay',\n",
    "\ttitle='Train Loss per Round', labels=figs_labels\n",
    ").show()"
   ],
   "id": "4de3e4d924fa415e",
   "outputs": [],
   "execution_count": null
  },
  {
   "metadata": {},
   "cell_type": "code",
   "source": [
    "px.box(\n",
    "\truns_accs_df[runs_accs_df['type'] == 'raw-train'],\n",
    "\tx='round', y='accuracy', color='run', points=False, boxmode='overlay',\n",
    "\ttitle='Raw Train Accuracy per Round', labels=figs_labels\n",
    ").show()\n",
    "\n",
    "px.box(\n",
    "\truns_accs_df[runs_accs_df['type'] == 'raw-train'],\n",
    "\tx='round', y='mean_loss', color='run', points=False, boxmode='overlay',\n",
    "\ttitle='Raw Train Loss per Round', labels=figs_labels\n",
    ").show()"
   ],
   "id": "ea6a15ef1a393eb7",
   "outputs": [],
   "execution_count": null
  },
  {
   "metadata": {},
   "cell_type": "markdown",
   "source": "### All Nodes",
   "id": "f29eb09f4eb2ee33"
  },
  {
   "metadata": {},
   "cell_type": "code",
   "source": [
    "px.line(\n",
    "\truns_accs_df[runs_accs_df['type'] == 'test'],\n",
    "\tx='round', y='accuracy', color='node', symbol='run', line_dash='run', markers=False,\n",
    "\ttitle='Test Accuracy per Round', labels=figs_labels\n",
    ").show()\n",
    "\n",
    "px.line(\n",
    "\truns_accs_df[runs_accs_df['type'] == 'test'],\n",
    "\tx='round', y='mean_loss', color='node', symbol='run', line_dash='run', markers=False,\n",
    "\ttitle='Test Loss per Round', labels=figs_labels\n",
    ").show()"
   ],
   "id": "2216ace7f9240ca7",
   "outputs": [],
   "execution_count": null
  },
  {
   "metadata": {},
   "cell_type": "code",
   "source": [
    "px.line(\n",
    "\truns_accs_df[runs_accs_df['type'] == 'train'],\n",
    "\tx='round', y='accuracy', color='node', symbol='run', line_dash='run', markers=False,\n",
    "\ttitle='Train Accuracy per Round', labels=figs_labels\n",
    ").show()\n",
    "\n",
    "px.line(\n",
    "\truns_accs_df[runs_accs_df['type'] == 'train'],\n",
    "\tx='round', y='mean_loss', color='node', symbol='run', line_dash='run', markers=False,\n",
    "\ttitle='Train Loss per Round', labels=figs_labels\n",
    ").show()"
   ],
   "id": "4541bf78337fb6d1",
   "outputs": [],
   "execution_count": null
  },
  {
   "metadata": {},
   "cell_type": "code",
   "source": [
    "px.line(\n",
    "\truns_accs_df[runs_accs_df['type'] == 'raw-train'],\n",
    "\tx='round', y='accuracy', color='node', symbol='run', line_dash='run', markers=False,\n",
    "\ttitle='Raw Train Accuracy per Round', labels=figs_labels\n",
    ").show()\n",
    "\n",
    "px.line(\n",
    "\truns_accs_df[runs_accs_df['type'] == 'raw-train'],\n",
    "\tx='round', y='mean_loss', color='node', symbol='run', line_dash='run', markers=False,\n",
    "\ttitle='Raw Train Loss per Round', labels=figs_labels\n",
    ").show()"
   ],
   "id": "86f5547f059576e6",
   "outputs": [],
   "execution_count": null
  },
  {
   "metadata": {},
   "cell_type": "markdown",
   "source": "## Durations",
   "id": "1ab4c0195247e977"
  },
  {
   "metadata": {},
   "cell_type": "code",
   "source": [
    "runs_durs_df = None\n",
    "\n",
    "for RUN_NAME, RUN_DIR_PATH in RUNS.items():\n",
    "\trun_durs_df = prep.durs(RUN_DIR_PATH)\n",
    "\trun_durs_df['run'] = RUN_NAME\n",
    "\n",
    "\truns_durs_df = run_durs_df if runs_durs_df is None else pd.concat([runs_durs_df, run_durs_df])"
   ],
   "id": "2d9cca657a28878d",
   "outputs": [],
   "execution_count": null
  },
  {
   "metadata": {},
   "cell_type": "code",
   "source": [
    "px.box(\n",
    "\truns_durs_df[runs_durs_df['type'] == 'search-ready'],\n",
    "\tx='round', y='duration_seconds', color='run', boxmode='overlay',\n",
    "\ttitle='Search Readiness Duration per Round', labels=figs_labels\n",
    ").show()\n",
    "\n",
    "px.box(\n",
    "\truns_durs_df[runs_durs_df['type'] == 'search'],\n",
    "\tx='round', y='duration_seconds', color='run', boxmode='overlay',\n",
    "\ttitle=\"Search Duration per Round\", labels=figs_labels\n",
    ").show()"
   ],
   "id": "60974021517c07e1",
   "outputs": [],
   "execution_count": null
  },
  {
   "metadata": {},
   "cell_type": "markdown",
   "source": "## Searches' Recalls",
   "id": "2a306afe41127355"
  },
  {
   "metadata": {},
   "cell_type": "code",
   "source": [
    "runs_searches_df = None\n",
    "\n",
    "for RUN_NAME, RUN_DIR_PATH in RUNS.items():\n",
    "\trun_searches_df = prep.searches(RUN_DIR_PATH, sims_df=prep.son_sims(RUN_DIR_PATH))  # Evaluate on last SON data baseline similarities.\n",
    "\t# run_searches_df = prep.searches(RUN_DIR_PATH, sims_df=prep.sims(RUN_DIR_PATH)) # Evaluate on live SON data baseline similarities.\n",
    "\trun_searches_df['run'] = RUN_NAME\n",
    "\n",
    "\truns_searches_df = run_searches_df if runs_durs_df is None else pd.concat([runs_searches_df, run_searches_df])"
   ],
   "id": "31f53ffa748e1263",
   "outputs": [],
   "execution_count": null
  },
  {
   "metadata": {},
   "cell_type": "code",
   "source": [
    "px.box(\n",
    "\truns_searches_df,\n",
    "\tx='round', y='recall', color='run',\n",
    "\ttitle='Recall per Round', labels=figs_labels\n",
    ").show()"
   ],
   "id": "c23877009f108cd3",
   "outputs": [],
   "execution_count": null
  }
 ],
 "metadata": {
  "kernelspec": {
   "display_name": "Python 3",
   "language": "python",
   "name": "python3"
  },
  "language_info": {
   "codemirror_mode": {
    "name": "ipython",
    "version": 2
   },
   "file_extension": ".py",
   "mimetype": "text/x-python",
   "name": "python",
   "nbconvert_exporter": "python",
   "pygments_lexer": "ipython2",
   "version": "2.7.6"
  }
 },
 "nbformat": 4,
 "nbformat_minor": 5
}
