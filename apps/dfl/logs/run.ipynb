{
 "cells": [
  {
   "metadata": {},
   "cell_type": "markdown",
   "source": "# Logs",
   "id": "d15ed95558708b6c"
  },
  {
   "metadata": {},
   "cell_type": "code",
   "source": [
    "from os import environ\n",
    "from pathlib import Path\n",
    "\n",
    "import pandas as pd\n",
    "import plotly.express as px\n",
    "\n",
    "import prep\n",
    "from utils import figs_labels\n",
    "\n",
    "RUN_DIR_PATH = Path(environ.get('LOGS_DIR', './../runs/test/'))"
   ],
   "id": "3e42f99fc913a220",
   "outputs": [],
   "execution_count": null
  },
  {
   "metadata": {},
   "cell_type": "markdown",
   "source": "## Configurations",
   "id": "93bdc18d23597914"
  },
  {
   "metadata": {},
   "cell_type": "code",
   "source": [
    "from deepdiff import DeepDiff\n",
    "\n",
    "confs_df = prep.confs(RUN_DIR_PATH)\n",
    "\n",
    "base_env = confs_df['env'].iloc[0]\n",
    "print(f\"Took {confs_df['node'].iloc[0]} conf. as the base.\")\n",
    "\n",
    "for idx, row in confs_df.iloc[1:].iterrows():\n",
    "\trow_env = row['env']\n",
    "\tdiff = DeepDiff(base_env, row_env, ignore_order=True)\n",
    "\n",
    "\tprint(f\"Diff. {row['node']}: {diff}.\")"
   ],
   "id": "1af0cc862490bc6b",
   "outputs": [],
   "execution_count": null
  },
  {
   "metadata": {},
   "cell_type": "markdown",
   "source": "## Models",
   "id": "d7518313d558dfbd"
  },
  {
   "metadata": {},
   "cell_type": "code",
   "source": [
    "models_df = prep.models(RUN_DIR_PATH)\n",
    "\n",
    "# TODO: check if models' init. are homogenous or heterogeneous; group by init. fingerprint"
   ],
   "id": "f1a9c25417c58508",
   "outputs": [],
   "execution_count": null
  },
  {
   "metadata": {},
   "cell_type": "markdown",
   "source": "## Initial Peers Topology",
   "id": "f18e082c24922f2f"
  },
  {
   "metadata": {},
   "cell_type": "code",
   "source": [
    "from pyvis.network import Network as PyVisNetwork\n",
    "import networkx as nx\n",
    "\n",
    "init_peers_df = prep.init_peers(RUN_DIR_PATH)\n",
    "\n",
    "init_peers_graph = prep.init_peers_nx_graph(init_peers_df)\n",
    "\n",
    "init_peers_net = PyVisNetwork(notebook=True, directed=init_peers_graph.is_directed(), cdn_resources='in_line')\n",
    "init_peers_net.set_options('{\"layout\": {\"randomSeed\": 42}}')\n",
    "init_peers_net.from_nx(init_peers_graph)\n",
    "init_peers_net.show(name=str(RUN_DIR_PATH / 'pyvis-initial-peers-topology-network.html'))"
   ],
   "id": "3a1b0a27ca846cf6",
   "outputs": [],
   "execution_count": null
  },
  {
   "metadata": {},
   "cell_type": "markdown",
   "source": "## Simulated Latencies",
   "id": "6a1fe6b88dc16f4d"
  },
  {
   "metadata": {},
   "cell_type": "code",
   "source": [
    "sim_lats_df = prep.sim_lats(RUN_DIR_PATH)\n",
    "\n",
    "sim_lats_graph = nx.DiGraph()\n",
    "sim_lats_graph.add_nodes_from(pd.concat([sim_lats_df['node'], sim_lats_df['peer']]).unique())\n",
    "\n",
    "sim_lats_graph.add_edges_from(\n",
    "\tsim_lats_df.apply(\n",
    "\t\tlambda r: (r['node'], r['peer'], {'latency_ms': r['latency_ms']} if 'latency_ms' in r else {}),\n",
    "\t\taxis='columns'\n",
    "\t)\n",
    ")\n",
    "\n",
    "sim_lats_net = PyVisNetwork(notebook=True, directed=sim_lats_graph.is_directed(), cdn_resources='in_line')\n",
    "sim_lats_net.set_options('{\"layout\": {\"randomSeed\": 42}}')\n",
    "sim_lats_net.from_nx(sim_lats_graph)\n",
    "\n",
    "for edge in sim_lats_net.edges:\n",
    "\tlat = edge.get('latency_ms', None)\n",
    "\tif lat is not None:\n",
    "\t\tedge['label'] = f\"{lat} ms\"\n",
    "\n",
    "sim_lats_net.show(name=str(RUN_DIR_PATH / 'pyvis-simulated-latencies.html'))"
   ],
   "id": "f8bb1142267d9754",
   "outputs": [],
   "execution_count": null
  },
  {
   "metadata": {},
   "cell_type": "code",
   "source": [
    "for edge in init_peers_net.edges:\n",
    "\tif sim_lats_graph[edge['from']][edge['to']].get('latency_ms', None) is not None \\\n",
    "\t\t\tor sim_lats_graph[edge['to']][edge['from']].get('latency_ms', None) is not None:\n",
    "\t\tlat = sim_lats_graph[edge['from']][edge['to']].get('latency_ms', 0) \\\n",
    "\t\t      + sim_lats_graph[edge['to']][edge['from']].get('latency_ms', 0)\n",
    "\t\tedge['label'] = f\"{lat} ms\"\n",
    "\n",
    "init_peers_net.show(name=str(RUN_DIR_PATH / 'pyvis-simulated-latencies-initial-peers.html'))"
   ],
   "id": "5db0d70a114e5c31",
   "outputs": [],
   "execution_count": null
  },
  {
   "metadata": {},
   "cell_type": "markdown",
   "source": "## Data Distribution",
   "id": "50496fb7f4549429"
  },
  {
   "metadata": {},
   "cell_type": "code",
   "source": [
    "data_dist_df = prep.data_dist(RUN_DIR_PATH)\n",
    "\n",
    "data_dist_train_df = data_dist_df[data_dist_df['type'] == 'train']\n",
    "data_dist_test_df = data_dist_df[data_dist_df['type'] == 'test']\n",
    "\n",
    "fig_data_dist_train = px.bar(\n",
    "\tdata_dist_train_df,\n",
    "\tx='node', y='count', color='target',\n",
    "\ttitle='Train Data Distribution - Labels per Node', labels=figs_labels,\n",
    "\tcategory_orders={'node': data_dist_train_df[['node', 'node_index']].sort_values('node_index')['node'].unique(),\n",
    "\t                 'target': sorted(data_dist_train_df['target'].unique())}\n",
    ")\n",
    "fig_data_dist_test = px.bar(\n",
    "\tdata_dist_test_df,\n",
    "\tx='node', y='count', color='target',\n",
    "\ttitle='Test Data Distribution - Labels per Node', labels=figs_labels,\n",
    "\tcategory_orders={'node': data_dist_test_df[['node', 'node_index']].sort_values('node_index')['node'].unique(),\n",
    "\t                 'target': sorted(data_dist_test_df['target'].unique())}\n",
    ")\n",
    "\n",
    "fig_data_dist_train.show()\n",
    "fig_data_dist_test.show()\n",
    "\n",
    "fig_data_dist_train = px.bar(\n",
    "\tdata_dist_train_df,\n",
    "\tx='target', y='count', color='node',\n",
    "\ttitle='Train Data Distribution - Nodes per Label', labels=figs_labels,\n",
    "\tcategory_orders={'target': sorted(data_dist_train_df['target'].unique())}\n",
    ")\n",
    "fig_data_dist_test = px.bar(\n",
    "\tdata_dist_test_df,\n",
    "\tx='target', y='count', color='node',\n",
    "\ttitle='Test Data Distribution - Nodes per Label', labels=figs_labels,\n",
    "\tcategory_orders={'target': sorted(data_dist_test_df['target'].unique())}\n",
    ")\n",
    "\n",
    "fig_data_dist_train.show()\n",
    "fig_data_dist_test.show()"
   ],
   "id": "a13833e63abcfb31",
   "outputs": [],
   "execution_count": null
  },
  {
   "metadata": {},
   "cell_type": "markdown",
   "source": "## Accuracies",
   "id": "66613c0db03819ec"
  },
  {
   "metadata": {},
   "cell_type": "code",
   "source": [
    "accs_df = prep.accs(RUN_DIR_PATH)\n",
    "\n",
    "accs_df_rtrain = accs_df[accs_df['type'] == 'raw-train'].drop(columns=['type'])  # `rtrain` stands for `raw_train`.\n",
    "accs_df_train = accs_df[accs_df['type'] == 'train'].drop(columns=['type'])\n",
    "accs_df_test = accs_df[accs_df['type'] == 'test'].drop(columns=['type'])\n",
    "accs_df_test_pre_agg = accs_df[(accs_df['type'] == 'test-pre-agg') | \\\n",
    "                               ((accs_df['type'] == 'test') & (accs_df['round'] == -1))] \\\n",
    "\t.drop(columns=['type'])\n",
    "\n",
    "accs_df_rtrain_mean = prep.accs_mean(accs_df_rtrain)\n",
    "accs_df_train_mean = prep.accs_mean(accs_df_train)\n",
    "accs_df_test_mean = prep.accs_mean(accs_df_test)\n",
    "accs_df_test_pre_agg_mean = prep.accs_mean(accs_df_test_pre_agg)\n",
    "\n",
    "accs_df_rtrain = pd.concat([accs_df_rtrain_mean, accs_df_rtrain])\n",
    "accs_df_train = pd.concat([accs_df_train_mean, accs_df_train])\n",
    "accs_df_test = pd.concat([accs_df_test_mean, accs_df_test])\n",
    "accs_df_test_pre_agg = pd.concat([accs_df_test_pre_agg_mean, accs_df_test_pre_agg])"
   ],
   "id": "de5541fbcc07e1e1",
   "outputs": [],
   "execution_count": null
  },
  {
   "metadata": {},
   "cell_type": "code",
   "source": [
    "px.line(\n",
    "\taccs_df_test, x='round', y='accuracy', color='node', markers=False,\n",
    "\ttitle='Test Accuracy per Round', labels=figs_labels\n",
    ").show()\n",
    "px.line(\n",
    "\taccs_df_test, x='round', y='mean_loss', color='node', markers=False,\n",
    "\ttitle='Test Mean Loss per Round', labels=figs_labels\n",
    ").show()"
   ],
   "id": "1329523724eaa1b6",
   "outputs": [],
   "execution_count": null
  },
  {
   "metadata": {},
   "cell_type": "code",
   "source": [
    "px.line(\n",
    "\taccs_df_test_pre_agg, x='round', y='accuracy', color='node', markers=False,\n",
    "\ttitle='Test (Pre-Agg.) Accuracy per Round', labels=figs_labels\n",
    ").show()\n",
    "px.line(\n",
    "\taccs_df_test_pre_agg, x='round', y='mean_loss', color='node', markers=False,\n",
    "\ttitle='Test (Pre-Agg.) Mean Loss per Round', labels=figs_labels\n",
    ").show()"
   ],
   "id": "a933eaa988801b8c",
   "outputs": [],
   "execution_count": null
  },
  {
   "metadata": {},
   "cell_type": "code",
   "source": [
    "px.line(\n",
    "\taccs_df_train, x='round', y='accuracy', color='node', markers=False,\n",
    "\ttitle='Train Accuracy per Round', labels=figs_labels\n",
    ").show()\n",
    "px.line(\n",
    "\taccs_df_train, x='round', y='mean_loss', color='node', markers=False,\n",
    "\ttitle='Train Mean Loss per Round', labels=figs_labels\n",
    ").show()"
   ],
   "id": "d199b8dc1a8d674f",
   "outputs": [],
   "execution_count": null
  },
  {
   "metadata": {},
   "cell_type": "code",
   "source": [
    "px.line(\n",
    "\taccs_df_rtrain, x='round', y='accuracy', color='node', markers=False,\n",
    "\ttitle='Raw Train Accuracy per Round', labels=figs_labels\n",
    ").show()\n",
    "px.line(\n",
    "\taccs_df_rtrain, x='round', y='mean_loss', color='node', markers=False,\n",
    "\ttitle='Raw Train Mean Loss per Round', labels=figs_labels\n",
    ").show()"
   ],
   "id": "26e1979566ac27cf",
   "outputs": [],
   "execution_count": null
  },
  {
   "metadata": {},
   "cell_type": "markdown",
   "source": "## Similarities",
   "id": "3be7ea82ce354554"
  },
  {
   "metadata": {},
   "cell_type": "code",
   "source": "sims_df = prep.sims(RUN_DIR_PATH)",
   "id": "851f838c4c2d885c",
   "outputs": [],
   "execution_count": null
  },
  {
   "metadata": {},
   "cell_type": "code",
   "source": [
    "round_ = 0\n",
    "normalized = False  # Set `True` to plot the normalized similarity.\n",
    "\n",
    "import numpy as np\n",
    "\n",
    "round_sims_df = sims_df[sims_df['round'] == round_].copy()\n",
    "\n",
    "# Comment to include the main diagonal.\n",
    "round_sims_df['sim'] = round_sims_df.apply(lambda row: np.nan if row['peer'] == row['target_peer'] else row['sim'],\n",
    "                                           axis='columns')\n",
    "\n",
    "if normalized:\n",
    "\tfrom sklearn.preprocessing import MinMaxScaler\n",
    "\n",
    "\tround_sims_df['norm_sim'] = MinMaxScaler().fit_transform(round_sims_df[['sim']])\n",
    "\n",
    "# Comment these lines to keep the symmetric bottom triangle of the matrix.\n",
    "round_sims_df['peer_target_peer'] = \\\n",
    "\tround_sims_df.apply(lambda row: tuple(sorted([row['peer'], row['target_peer']])), axis='columns')\n",
    "round_sims_df.drop_duplicates('peer_target_peer', inplace=True)\n",
    "round_sims_df.drop(columns='peer_target_peer', inplace=True)\n",
    "\n",
    "fig_sims = px.imshow(\n",
    "\tround_sims_df.pivot(index='peer', columns='target_peer', values='norm_sim' if normalized else 'sim'),\n",
    "\t# zmin=0, zmax=1,\n",
    "\ttext_auto='.2f',\n",
    "\tlabels=figs_labels | {'y': 'Peer', 'x': 'Target Peer', 'color': f\"Similarity{' (norm.)' if normalized else ''}\"},\n",
    "\ttitle=f\"Similarity{' (norm.)' if normalized else ''} Matrix Round #{round_}\"\n",
    ")\n",
    "fig_sims.show()"
   ],
   "id": "6bb35c236fac3870",
   "outputs": [],
   "execution_count": null
  },
  {
   "metadata": {},
   "cell_type": "markdown",
   "source": "### SON Similarities",
   "id": "be08774bf1e1e134"
  },
  {
   "metadata": {},
   "cell_type": "code",
   "source": "son_sims_df = prep.son_sims(RUN_DIR_PATH)",
   "id": "1ef5c8fbdcdaaa10",
   "outputs": [],
   "execution_count": null
  },
  {
   "metadata": {},
   "cell_type": "code",
   "source": [
    "round_ = 0\n",
    "normalized = False  # Set `True` to plot the normalized similarity.\n",
    "\n",
    "import numpy as np\n",
    "\n",
    "round_sims_df = son_sims_df[son_sims_df['round'] == round_].copy()\n",
    "\n",
    "if normalized:\n",
    "\tfrom sklearn.preprocessing import MinMaxScaler\n",
    "\n",
    "\tround_sims_df['norm_sim'] = MinMaxScaler().fit_transform(round_sims_df[['sim']])\n",
    "\n",
    "px.imshow(\n",
    "\tround_sims_df.pivot(index='node', columns='son_node', values='norm_sim' if normalized else 'sim'),\n",
    "\t# zmin=0, zmax=1,\n",
    "\ttext_auto='.2f',\n",
    "\tlabels=figs_labels | {'y': 'Node', 'x': 'SON Node', 'color': f\"Similarity{' (norm.)' if normalized else ''}\"},\n",
    "\ttitle=f\"SON Similarity{' (norm.)' if normalized else ''} Matrix Round #{round_}\"\n",
    ").show()"
   ],
   "id": "161518670e99a146",
   "outputs": [],
   "execution_count": null
  },
  {
   "metadata": {},
   "cell_type": "markdown",
   "source": "## Aggregation Peers",
   "id": "4f2047d74b3efcc3"
  },
  {
   "metadata": {},
   "cell_type": "code",
   "source": "agg_peers_df = prep.agg_peers(RUN_DIR_PATH)",
   "id": "d5be3dbf99cfe011",
   "outputs": [],
   "execution_count": null
  },
  {
   "metadata": {},
   "cell_type": "code",
   "source": [
    "round_ = agg_peers_df['round'].max()\n",
    "\n",
    "r_agg_peers_df = agg_peers_df[agg_peers_df['round'] <= round_]\n",
    "r_agg_peers_df = r_agg_peers_df.groupby(['node', 'peer']).size().reset_index(name='count')\n",
    "r_agg_peers_df = r_agg_peers_df[r_agg_peers_df['count'] != 0]\n",
    "\n",
    "# FIXME: add `np.nan` for missing entries.\n",
    "\n",
    "fig_agg_peers = px.imshow(\n",
    "\tr_agg_peers_df.pivot(index='node', columns='peer', values='count'),\n",
    "\ttext_auto=True, labels=figs_labels | {'y': 'Node', 'x': 'Peer Node', 'color': 'Count'},\n",
    "\ttitle=f\"Peers Agg. Count Up-to Round #{round_}\"\n",
    ")\n",
    "fig_agg_peers.show()"
   ],
   "id": "de22ed172b5cc044",
   "outputs": [],
   "execution_count": null
  },
  {
   "metadata": {},
   "cell_type": "markdown",
   "source": "## Zones",
   "id": "315dc5a03517e279"
  },
  {
   "metadata": {},
   "cell_type": "code",
   "source": "zones_df = prep.zones(RUN_DIR_PATH)",
   "id": "35f72d85632328f3",
   "outputs": [],
   "execution_count": null
  },
  {
   "metadata": {},
   "cell_type": "code",
   "source": [
    "import networkx as nx\n",
    "from pyvis.network import Network as PyVisNetwork\n",
    "\n",
    "round_ = 0\n",
    "\n",
    "r_zones_df = zones_df[(zones_df['round'] == round_)]\n",
    "\n",
    "r_zones_graph = nx.DiGraph()\n",
    "r_zones_graph.add_nodes_from(set(r_zones_df['initiator_node_repr'].unique()) | set(r_zones_df['peer_repr'].unique()))\n",
    "\n",
    "grouped_r_zones_df = r_zones_df.groupby(['initiator_node_repr'])\n",
    "for (initiator_node,), group_df in grouped_r_zones_df:\n",
    "\tpeers = group_df['peer_repr']\n",
    "\tr_zones_graph.add_edges_from(list(zip([initiator_node] * len(peers), peers)))\n",
    "\n",
    "r_zones_net = PyVisNetwork(notebook=True, directed=True, cdn_resources='in_line')\n",
    "r_zones_net.set_options('{\"layout\": {\"randomSeed\": 42, \"hierarchical\": {\"direction\": \"UD\", \"sortMethod\": \"directed\"}}}')\n",
    "r_zones_net.from_nx(r_zones_graph)\n",
    "r_zones_net.show(name=str(RUN_DIR_PATH / 'pyvis-zones.html'))"
   ],
   "id": "9abb985119c8a052",
   "outputs": [],
   "execution_count": null
  },
  {
   "metadata": {},
   "cell_type": "markdown",
   "source": "## Clusters",
   "id": "d8134a2718d1d2da"
  },
  {
   "metadata": {},
   "cell_type": "code",
   "source": "clusters_df = prep.clusters(RUN_DIR_PATH)",
   "id": "bbfe4e5292d9f61e",
   "outputs": [],
   "execution_count": null
  },
  {
   "metadata": {},
   "cell_type": "code",
   "source": [
    "super_clusters_representatives_df = prep.super_clusters_representatives(RUN_DIR_PATH)\n",
    "\n",
    "for (round_,), r_super_clusters_representatives_df in super_clusters_representatives_df.groupby(['round']):\n",
    "\tbase_super_clusters_representatives = r_super_clusters_representatives_df.iloc[0]['super_clusters_representatives']\n",
    "\tassert r_super_clusters_representatives_df['super_clusters_representatives'].apply(\n",
    "\t\tlambda s: s == base_super_clusters_representatives).all()\n",
    "\n",
    "for (round_,), r_clusters_df in clusters_df.groupby(['round']):\n",
    "\tassert set(r_clusters_df[r_clusters_df['level'] == r_clusters_df['level'].max()]['representative_node']) \\\n",
    "\t       == super_clusters_representatives_df[(super_clusters_representatives_df['round'] == round_)] \\\n",
    "\t\t       .iloc[0]['super_clusters_representatives']"
   ],
   "id": "808e18d95286fb4d",
   "outputs": [],
   "execution_count": null
  },
  {
   "metadata": {},
   "cell_type": "code",
   "source": [
    "import networkx as nx\n",
    "from pyvis.network import Network as PyVisNetwork\n",
    "\n",
    "round_ = 0\n",
    "\n",
    "r_clusters_df = clusters_df[(clusters_df['round'] == round_)]\n",
    "\n",
    "r_clusters_graph = nx.DiGraph()\n",
    "r_clusters_graph.add_nodes_from(\n",
    "\tset(r_clusters_df['representative_node_repr'].unique()) | set(r_clusters_df['peer_repr'].unique()))\n",
    "\n",
    "grouped_r_clusters_df = r_clusters_df.groupby(['representative_node_repr'])\n",
    "for (representative_node,), group_df in grouped_r_clusters_df:\n",
    "\tpeers = group_df['peer_repr']\n",
    "\tr_clusters_graph.add_edges_from(list(zip([representative_node] * len(peers), peers)))\n",
    "\n",
    "r_clusters_net = PyVisNetwork(notebook=True, directed=True, cdn_resources='in_line')\n",
    "r_clusters_net.set_options(\n",
    "\t'{\"layout\": {\"randomSeed\": 42, \"hierarchical\": {\"direction\": \"UD\", \"sortMethod\": \"directed\"}}}')\n",
    "r_clusters_net.from_nx(r_clusters_graph)\n",
    "r_clusters_net.show(name=str(RUN_DIR_PATH / 'pyvis-clusters.html'))"
   ],
   "id": "300415feca77e70f",
   "outputs": [],
   "execution_count": null
  },
  {
   "metadata": {},
   "cell_type": "markdown",
   "source": "## Searches",
   "id": "9e2d1efc52907624"
  },
  {
   "metadata": {},
   "cell_type": "code",
   "source": [
    "searches_df = prep.searches(RUN_DIR_PATH, sims_df=prep.son_sims(RUN_DIR_PATH))  # Evaluate on last SON data baseline similarities.\n",
    "# searches_df = prep.searches(RUN_DIR_PATH, sims_df=prep.sims(RUN_DIR_PATH)) # Evaluate on live SON data baseline similarities."
   ],
   "id": "efc7ce8945e174ca",
   "outputs": [],
   "execution_count": null
  },
  {
   "metadata": {},
   "cell_type": "markdown",
   "source": "### Evaluations",
   "id": "92ec4519208895bc"
  },
  {
   "metadata": {},
   "cell_type": "code",
   "source": [
    "fig_recall = px.box(\n",
    "\tsearches_df,\n",
    "\ty='recall',\n",
    "\ttitle='Recall', labels=figs_labels\n",
    ")\n",
    "\n",
    "fig_precision = px.box(\n",
    "\tsearches_df,\n",
    "\ty='precision',\n",
    "\ttitle='Precision', labels=figs_labels\n",
    ")\n",
    "\n",
    "fig_accuracy = px.box(\n",
    "\tsearches_df,\n",
    "\ty='accuracy',\n",
    "\ttitle='Accuracy', labels=figs_labels\n",
    ")\n",
    "\n",
    "fig_ndcg = px.box(\n",
    "\tsearches_df,\n",
    "\ty='ndcg',\n",
    "\ttitle='NDCG', labels=figs_labels\n",
    ")\n",
    "\n",
    "fig_recall.show()\n",
    "fig_precision.show()\n",
    "fig_accuracy.show()\n",
    "fig_ndcg.show()"
   ],
   "id": "d424b1737bf59cd4",
   "outputs": [],
   "execution_count": null
  },
  {
   "metadata": {},
   "cell_type": "markdown",
   "source": "### Adaptive Minimum Similarity Threshold",
   "id": "f8a5a80fb18b025a"
  },
  {
   "metadata": {},
   "cell_type": "code",
   "source": [
    "px.line(\n",
    "\tsearches_df,\n",
    "\tx='round', y='k_diff', color='node',\n",
    "\ttitle='K Diff. (return. res. - target k) over Rounds', labels=figs_labels | {'k_diff': 'K Diff.'},\n",
    "\tmarkers=True\n",
    ").show()"
   ],
   "id": "81ca672fdb825e12",
   "outputs": [],
   "execution_count": null
  },
  {
   "metadata": {},
   "cell_type": "code",
   "source": [
    "px.line(\n",
    "\tsearches_df,\n",
    "\tx='round', y='min_similarity', color='node',\n",
    "\ttitle='Search Min. Sim. per Round', labels=figs_labels,\n",
    "\tmarkers=False\n",
    ").show()"
   ],
   "id": "92509c912c4f40fa",
   "outputs": [],
   "execution_count": null
  },
  {
   "metadata": {},
   "cell_type": "markdown",
   "source": "### The Isotonic Method",
   "id": "2ebbab71f5796a1c"
  },
  {
   "metadata": {},
   "cell_type": "code",
   "source": [
    "round_ = searches_df['round'].max()\n",
    "\n",
    "round_searches_df = searches_df[searches_df['round'] == round_]\n",
    "\n",
    "xys_df = []\n",
    "for _, row in round_searches_df.iterrows():\n",
    "\tnode = row['node']\n",
    "\tfor x, y in row['isotonic_xys']:\n",
    "\t\txys_df.append({'node': node, 'x': x, 'y': y})\n",
    "xys_df = pd.DataFrame(xys_df)\n",
    "\n",
    "px.line(\n",
    "\txys_df,\n",
    "\tx='x', y='y', color='node',\n",
    "\ttitle=f'The Fit. Isotonic Reg. Line - Round #{round_}',\n",
    "\tlabels=figs_labels | {'x': 'Min. Sim.', 'y': 'Return. Res.'},\n",
    ").show()"
   ],
   "id": "5b0dc249161a8ee3",
   "outputs": [],
   "execution_count": null
  },
  {
   "metadata": {},
   "cell_type": "markdown",
   "source": "## Durations",
   "id": "716a3a9c615b0004"
  },
  {
   "metadata": {},
   "cell_type": "code",
   "source": "durs_df = prep.durs(RUN_DIR_PATH)",
   "id": "78bdedf997f8d567",
   "outputs": [],
   "execution_count": null
  },
  {
   "metadata": {},
   "cell_type": "markdown",
   "source": "### Searches Readiness Durations",
   "id": "ace394eca1f373c2"
  },
  {
   "metadata": {},
   "cell_type": "code",
   "source": [
    "search_ready_durs_df = durs_df[durs_df['type'] == 'search-ready']\n",
    "\n",
    "fig_search_ready = px.bar(\n",
    "\tsearch_ready_durs_df,\n",
    "\tx='round', y='duration_seconds', color='node', barmode='group',\n",
    "\ttitle='Search Readiness Duration per Round', labels=figs_labels\n",
    ")\n",
    "\n",
    "fig_search_ready_agg = px.box(\n",
    "\tsearch_ready_durs_df,\n",
    "\tx='round', y='duration_seconds',\n",
    "\ttitle='Search Readiness Duration per Round', labels=figs_labels\n",
    ")\n",
    "\n",
    "fig_search_ready.show()\n",
    "fig_search_ready_agg.show()"
   ],
   "id": "34cfdc0928ee5586",
   "outputs": [],
   "execution_count": null
  },
  {
   "metadata": {},
   "cell_type": "markdown",
   "source": "### Searches Durations",
   "id": "a9b5893a4ee32ff6"
  },
  {
   "metadata": {},
   "cell_type": "code",
   "source": [
    "search_durs_df = durs_df[durs_df['type'] == 'search']\n",
    "\n",
    "fig_search_durs = px.box(\n",
    "\tsearch_durs_df,\n",
    "\tx='round', y='duration_seconds', color='node',\n",
    "\ttitle=\"Search Duration per Round\", labels=figs_labels\n",
    ")\n",
    "\n",
    "fig_search_durs_agg = px.box(\n",
    "\tsearch_durs_df,\n",
    "\tx='round', y='duration_seconds',\n",
    "\ttitle=\"Search Duration per Round\", labels=figs_labels\n",
    ")\n",
    "\n",
    "fig_search_durs.show()\n",
    "fig_search_durs_agg.show()"
   ],
   "id": "dc24518a71e6e38d",
   "outputs": [],
   "execution_count": null
  },
  {
   "metadata": {},
   "cell_type": "markdown",
   "source": "### Rounds' Durations",
   "id": "1cfff029caa9013"
  },
  {
   "metadata": {},
   "cell_type": "code",
   "source": [
    "rounds_durs_df = durs_df[durs_df['type'] == 'round']\n",
    "\n",
    "px.box(\n",
    "\trounds_durs_df,\n",
    "\tx='round', y='duration_seconds',\n",
    "\ttitle='Rounds\\' Durations', labels=figs_labels\n",
    ").show()"
   ],
   "id": "9d28da85bbfbbd61",
   "outputs": [],
   "execution_count": null
  }
 ],
 "metadata": {
  "kernelspec": {
   "display_name": "Python 3 (ipykernel)",
   "language": "python",
   "name": "python3"
  },
  "language_info": {
   "codemirror_mode": {
    "name": "ipython",
    "version": 3
   },
   "file_extension": ".py",
   "mimetype": "text/x-python",
   "name": "python",
   "nbconvert_exporter": "python",
   "pygments_lexer": "ipython3",
   "version": "3.12.3"
  }
 },
 "nbformat": 4,
 "nbformat_minor": 5
}
