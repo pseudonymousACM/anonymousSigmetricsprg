{
 "cells": [
  {
   "metadata": {},
   "cell_type": "code",
   "source": "%cd ./../",
   "id": "2168477e40ceeba1",
   "outputs": [],
   "execution_count": null
  },
  {
   "cell_type": "code",
   "id": "initial_id",
   "metadata": {
    "collapsed": true
   },
   "source": [
    "import logging\n",
    "import os\n",
    "\n",
    "from dotenv import load_dotenv\n",
    "\n",
    "load_dotenv()\n",
    "os.environ['INDEX'] = str(0)\n",
    "\n",
    "# TODO: share the code with the `logs.py` file.\n",
    "\n",
    "logging.basicConfig(\n",
    "\tformat=\"{name}\\t{asctime}\\t{levelname}\\t{message}\\t\",\n",
    "\tstyle='{',\n",
    "\tlevel=logging.DEBUG\n",
    ")\n",
    "logging.getLogger('PIL.PngImagePlugin').disabled = True\n",
    "logging.getLogger('matplotlib').disabled = True\n",
    "logging.getLogger('matplotlib.font_manager').disabled = True"
   ],
   "outputs": [],
   "execution_count": null
  },
  {
   "metadata": {},
   "cell_type": "code",
   "source": "import repro  # Imported for its side effects.",
   "id": "30d63bbe46483799",
   "outputs": [],
   "execution_count": null
  },
  {
   "metadata": {},
   "cell_type": "code",
   "source": [
    "from data import train_data_loader, test_data_loader, train_eval_data_loader\n",
    "from model import model\n",
    "import conf, conf_eval\n",
    "from torch.nn import CrossEntropyLoss\n",
    "import optim\n",
    "from train import TorchContext\n",
    "\n",
    "criterion = CrossEntropyLoss()  # TODO: move into a module to share with the `main` module.\n",
    "optimizer = optim.init()\n",
    "\n",
    "# TODO: move into a module to share with the `main` module.\n",
    "torch_context = TorchContext(\n",
    "\tmodel=model,\n",
    "\toptimizer=optimizer,\n",
    "\tcriterion=criterion,\n",
    "\ttrain_data_loader=train_data_loader,\n",
    "\ttest_data_loader=test_data_loader,\n",
    "\ttrain_eval_data_loader=train_eval_data_loader,\n",
    "\tdevice=conf_eval.DEVICE_EVAL\n",
    ")"
   ],
   "id": "dda75fb73e561143",
   "outputs": [],
   "execution_count": null
  },
  {
   "metadata": {},
   "cell_type": "code",
   "source": [
    "from tabulate import tabulate\n",
    "\n",
    "epochs_metrics = await torch_context.train(epochs=conf.FIRST_ROUND_TRAIN_EPOCHS)\n",
    "\n",
    "epochs_metrics = [(corrects / total, losses_sum / total) for (corrects, total, losses_sum) in epochs_metrics]\n",
    "accuracies, losses = [accuracy for accuracy, _ in epochs_metrics], [loss for _, loss in epochs_metrics]\n",
    "\n",
    "print(tabulate({'epoch': range(len(epochs_metrics)), 'accuracy': accuracies, 'loss': losses}, headers='keys', tablefmt='outline'))"
   ],
   "id": "fd9d7927e83c6987",
   "outputs": [],
   "execution_count": null
  },
  {
   "metadata": {},
   "cell_type": "code",
   "source": [
    "import search_data\n",
    "\n",
    "base_vec = search_data.params(model, cpu=False)"
   ],
   "id": "db2d7c62f3cfb7ab",
   "outputs": [],
   "execution_count": null
  },
  {
   "metadata": {},
   "cell_type": "code",
   "source": [
    "import torch\n",
    "from similarity import cosine\n",
    "from exts.torch_exts import topp_mag\n",
    "\n",
    "ps_sims = []\n",
    "\n",
    "for p in torch.linspace(0, 1, 101):\n",
    "\tp = float(p)\n",
    "\n",
    "\tpruned_vec = base_vec.clone()\n",
    "\tpruned_vec = topp_mag(pruned_vec, p=1 - p)\n",
    "\n",
    "\tps_sims.append((p, cosine(base_vec, pruned_vec)))"
   ],
   "id": "fd89af5b540d8b99",
   "outputs": [],
   "execution_count": null
  },
  {
   "metadata": {},
   "cell_type": "code",
   "source": [
    "import pandas as pd\n",
    "\n",
    "df = pd.DataFrame(ps_sims, columns=['p', 'sim'])\n",
    "\n",
    "utopia = torch.Tensor((1, 1))\n",
    "df['dist'] = df.apply(lambda r: torch.dist(torch.Tensor((r.sim, r.p)), utopia), axis='columns')\n",
    "\n",
    "df"
   ],
   "id": "4345941bba670e39",
   "outputs": [],
   "execution_count": null
  },
  {
   "metadata": {},
   "cell_type": "code",
   "source": [
    "import plotly.express as px\n",
    "\n",
    "optimal_point = df.loc[df['dist'].idxmin()]\n",
    "print(f\"Optimal Point: p={optimal_point['p']}, sim={optimal_point['sim']}.\")\n",
    "\n",
    "fig = px.line(\n",
    "\tdf,\n",
    "\tx='p', y='sim',\n",
    "\ttitle='Pareto Front', labels={'p': 'Pruning Ratio', 'sim': 'Cosine Similarity'}, markers=True\n",
    ")\n",
    "\n",
    "fig.add_scatter(x=(1,), y=(1,), name='Utopia', mode='markers', marker=dict(color='red', size=10, symbol='star'))\n",
    "fig.add_scatter(x=(optimal_point['p'],), y=(optimal_point['sim'],), mode='markers', marker=dict(color='gray', size=10), name='Optima')\n",
    "\n",
    "# fig.update_layout(yaxis_scaleanchor='x')  # 1:1 aspect ratio.\n",
    "\n",
    "fig.show()"
   ],
   "id": "51b011263348bca8",
   "outputs": [],
   "execution_count": null
  }
 ],
 "metadata": {
  "kernelspec": {
   "display_name": "Python 3",
   "language": "python",
   "name": "python3"
  },
  "language_info": {
   "codemirror_mode": {
    "name": "ipython",
    "version": 2
   },
   "file_extension": ".py",
   "mimetype": "text/x-python",
   "name": "python",
   "nbconvert_exporter": "python",
   "pygments_lexer": "ipython2",
   "version": "2.7.6"
  }
 },
 "nbformat": 4,
 "nbformat_minor": 5
}
