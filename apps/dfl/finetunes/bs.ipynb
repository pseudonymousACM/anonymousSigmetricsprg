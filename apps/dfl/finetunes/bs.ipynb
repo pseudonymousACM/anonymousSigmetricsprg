{
 "cells": [
  {
   "cell_type": "code",
   "id": "initial_id",
   "metadata": {
    "collapsed": true
   },
   "source": "%cd ./../",
   "outputs": [],
   "execution_count": null
  },
  {
   "metadata": {},
   "cell_type": "code",
   "source": [
    "import logging\n",
    "import os\n",
    "\n",
    "from dotenv import load_dotenv\n",
    "\n",
    "load_dotenv()\n",
    "os.environ['INDEX'] = str(0)\n",
    "os.environ['DATA_DEL_SPLITS'] = str(False)\n",
    "\n",
    "# TODO: share the code with the `logs.py` file.\n",
    "logging.basicConfig(\n",
    "\tformat=\"{name}\\t{asctime}\\t{levelname}\\t{message}\\t\",\n",
    "\tstyle='{',\n",
    "\tlevel=logging.DEBUG\n",
    ")\n",
    "logging.getLogger('PIL.PngImagePlugin').disabled = True\n",
    "logging.getLogger('matplotlib').disabled = True\n",
    "logging.getLogger('matplotlib.font_manager').disabled = True"
   ],
   "id": "e93c0c75fb972c9b",
   "outputs": [],
   "execution_count": null
  },
  {
   "metadata": {},
   "cell_type": "code",
   "source": "import repro  # Imported for its side effects.",
   "id": "4d7fc4d5f57c5879",
   "outputs": [],
   "execution_count": null
  },
  {
   "metadata": {},
   "cell_type": "code",
   "source": "import data",
   "id": "68a4932a1ccf898d",
   "outputs": [],
   "execution_count": null
  },
  {
   "metadata": {},
   "cell_type": "code",
   "outputs": [],
   "execution_count": null,
   "source": [
    "import finetunes.bs as bs\n",
    "import conf\n",
    "\n",
    "data_quantities = [len(split) for split in (data.train_splits[i] for i in data.data_dist_nodes_indices)]\n",
    "\n",
    "batch_size = bs.find(\n",
    "\tdata_quantities,\n",
    "\ttarget_avg_updates_per_epoch=10,\n",
    "\tpre_avg=False,\n",
    "\tdrop_last=conf.TRAIN_BATCH_DROP_LAST\n",
    ")\n",
    "\n",
    "updates_per_epoch = bs.updates_per_epoch(\n",
    "\tdata_quantities, batch_size,\n",
    "\tdrop_last=conf.TRAIN_BATCH_DROP_LAST\n",
    ")\n",
    "\n",
    "avg_updates_per_epoch = sum(updates_per_epoch) / len(updates_per_epoch)\n",
    "min_updates_per_epoch = min(updates_per_epoch)\n",
    "max_updates_per_epoch = max(updates_per_epoch)\n",
    "\n",
    "print(f\"\"\"\n",
    "Data Dist. Nodes Count = {conf.DATA_DISTRIBUTION_NODES_COUNT}\n",
    "Batch Size = {batch_size}\n",
    "Drop Last = {conf.TRAIN_BATCH_DROP_LAST}\n",
    "Minimum Updates per Epoch (over nodes) = {min_updates_per_epoch}\n",
    "Average Updates per Epoch (over nodes) = {avg_updates_per_epoch}\n",
    "Maximum Updates per Epoch (over nodes) = {max_updates_per_epoch}\n",
    "\"\"\")"
   ],
   "id": "86fde5a3eee44a8"
  }
 ],
 "metadata": {
  "kernelspec": {
   "display_name": "Python 3",
   "language": "python",
   "name": "python3"
  },
  "language_info": {
   "codemirror_mode": {
    "name": "ipython",
    "version": 2
   },
   "file_extension": ".py",
   "mimetype": "text/x-python",
   "name": "python",
   "nbconvert_exporter": "python",
   "pygments_lexer": "ipython2",
   "version": "2.7.6"
  }
 },
 "nbformat": 4,
 "nbformat_minor": 5
}
