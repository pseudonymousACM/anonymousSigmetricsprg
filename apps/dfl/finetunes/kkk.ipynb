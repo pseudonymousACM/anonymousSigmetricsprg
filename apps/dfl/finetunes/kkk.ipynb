{
 "cells": [
  {
   "cell_type": "code",
   "id": "initial_id",
   "metadata": {
    "collapsed": true
   },
   "source": "%cd ./../",
   "outputs": [],
   "execution_count": null
  },
  {
   "metadata": {},
   "cell_type": "code",
   "source": [
    "import logging\n",
    "import os\n",
    "\n",
    "from dotenv import load_dotenv\n",
    "\n",
    "load_dotenv()\n",
    "os.environ['INDEX'] = str(0)\n",
    "os.environ['DATA_DEL_SPLITS'] = str(False)\n",
    "os.environ['DATA_DEL_ALL'] = str(False)\n",
    "\n",
    "# TODO: share the code with the `logs.py` file.\n",
    "logging.basicConfig(\n",
    "\tformat=\"{name}\\t{asctime}\\t{levelname}\\t{message}\\t\",\n",
    "\tstyle='{',\n",
    "\tlevel=logging.DEBUG\n",
    ")\n",
    "logging.getLogger('PIL.PngImagePlugin').disabled = True\n",
    "logging.getLogger('matplotlib').disabled = True\n",
    "logging.getLogger('matplotlib.font_manager').disabled = True"
   ],
   "id": "7a980df67ed5cf3f",
   "outputs": [],
   "execution_count": null
  },
  {
   "metadata": {},
   "cell_type": "code",
   "source": "import repro  # Imported for its side effects.",
   "id": "bf5ff9122ee5dd53",
   "outputs": [],
   "execution_count": null
  },
  {
   "metadata": {},
   "cell_type": "code",
   "source": "import data",
   "id": "a20db78ee66ea336",
   "outputs": [],
   "execution_count": null
  },
  {
   "metadata": {},
   "cell_type": "code",
   "source": [
    "import finetunes.kkk as kkk\n",
    "import plotly.express as px"
   ],
   "id": "2bcb7ba63c913f08",
   "outputs": [],
   "execution_count": null
  },
  {
   "metadata": {},
   "cell_type": "code",
   "source": [
    "import numpy as np\n",
    "\n",
    "splits = [data.train_splits[i] for i in data.data_dist_nodes_indices]\n",
    "labels_splits = [[data.train_data_all.targets[idx] for idx in split] for split in splits]\n",
    "\n",
    "np_unique_splits = [np.unique(labels_split, return_counts=True) for labels_split in labels_splits]\n",
    "np_unique_splits = [(list(map(str, unique_labels_split)), list(map(int, unique_labels_count_split))) \\\n",
    "                    for (unique_labels_split, unique_labels_count_split) in np_unique_splits]\n",
    "labels_counts_splits = [dict(zip(*np_unique_split)) for np_unique_split in np_unique_splits]\n",
    "\n",
    "unique_labels = sorted({label for d in labels_counts_splits for label in d.keys()})\n",
    "labels_splits_vectors = np.array([[d.get(label, 0) for label in unique_labels] for d in labels_counts_splits], dtype=int)\n",
    "labels_splits_probs_vectors = labels_splits_vectors / labels_splits_vectors.sum(axis=1, keepdims=True)\n",
    "\n",
    "labels_splits_vectors"
   ],
   "id": "9b82f80c41f9e4a0",
   "outputs": [],
   "execution_count": null
  },
  {
   "metadata": {},
   "cell_type": "code",
   "source": [
    "px.bar(\n",
    "\tlabels_splits_vectors,\n",
    "\ttitle='Train Data Distribution - Labels per Node',\n",
    "\tlabels={'index': 'Node Index', 'value': 'Count', 'variable': 'Label'}\n",
    ").show()\n",
    "\n",
    "px.bar(\n",
    "\tlabels_splits_vectors.T,\n",
    "\ttitle='Train Data Distribution - Nodes per Label', labels={'index': 'Label', 'value': 'Count', 'variable': 'Node Index'}\n",
    ").show()"
   ],
   "id": "9ee7cc2b3a791629",
   "outputs": [],
   "execution_count": null
  },
  {
   "metadata": {},
   "cell_type": "code",
   "source": [
    "# Cosine Similarity\n",
    "\n",
    "from sklearn.metrics.pairwise import cosine_similarity\n",
    "\n",
    "cosines = cosine_similarity(labels_splits_vectors)\n",
    "\n",
    "px.imshow(\n",
    "\tcosines,\n",
    "\ttitle='Cosine Sim. between Labels\\' Dist. of Nodes\\' Train Datasets',\n",
    "\ttext_auto=True, labels={'x': 'Node Index', 'y': 'Node Index', 'color': 'Cosine Sim.'}\n",
    ").show()"
   ],
   "id": "adbeeac2637f5939",
   "outputs": [],
   "execution_count": null
  },
  {
   "metadata": {},
   "cell_type": "code",
   "source": [
    "# Jensen-Shannon Distance\n",
    "\n",
    "from scipy.spatial.distance import jensenshannon, pdist, squareform\n",
    "\n",
    "jss = squareform(pdist(labels_splits_probs_vectors, metric=lambda u, v: jensenshannon(u, v, base=2)))\n",
    "\n",
    "px.imshow(\n",
    "\tjss,\n",
    "\ttitle='Jensen-Shannon Dist. between Labels\\' Dist. of Nodes\\' Train Datasets',\n",
    "\ttext_auto=True, labels={'x': 'Node Index', 'y': 'Node Index', 'color': 'Jensen-Shanon Distance'},\n",
    "\tcolor_continuous_scale=px.colors.sequential.Plasma_r\n",
    ").show()"
   ],
   "id": "47ccb79b5dac612f",
   "outputs": [],
   "execution_count": null
  },
  {
   "metadata": {},
   "cell_type": "code",
   "source": [
    "# Total Variation Distance\n",
    "\n",
    "from scipy.spatial.distance import pdist, squareform\n",
    "\n",
    "tvs = squareform(pdist(labels_splits_probs_vectors, metric=lambda p, q: 0.5 * np.sum(np.abs(p - q))))\n",
    "\n",
    "px.imshow(\n",
    "\ttvs,\n",
    "\ttitle='Total Variation Dist. between Labels\\' Dist. of Nodes\\' Train Datasets',\n",
    "\ttext_auto=True, labels={'x': 'Node Index', 'y': 'Node Index', 'color': 'Total Variation Distance'},\n",
    "\tcolor_continuous_scale=px.colors.sequential.Plasma_r\n",
    ").show()"
   ],
   "id": "49d6a5d2385bc78",
   "outputs": [],
   "execution_count": null
  },
  {
   "metadata": {},
   "cell_type": "code",
   "source": [
    "min_cosine = 0.5\n",
    "max_js = 0.3\n",
    "max_tv = 0.5\n",
    "\n",
    "cosine_indices = kkk.mat_to_indices(cosines, criteria=lambda cosine: cosine >= min_cosine)\n",
    "cosine_ks = np.array([len(i) for i in cosine_indices], dtype=int)\n",
    "\n",
    "js_indices = kkk.mat_to_indices(jss, criteria=lambda js: js <= max_js)\n",
    "js_ks = np.array([len(i) for i in js_indices], dtype=int)\n",
    "\n",
    "tv_indices = kkk.mat_to_indices(tvs, criteria=lambda tv: tv <= max_tv)\n",
    "tv_ks = np.array([len(i) for i in tv_indices], dtype=int)"
   ],
   "id": "6451d94868ead4d1",
   "outputs": [],
   "execution_count": null
  },
  {
   "metadata": {},
   "cell_type": "code",
   "source": [
    "import pandas as pd\n",
    "\n",
    "df = []\n",
    "\n",
    "for i, split in enumerate(splits):\n",
    "\tdf.append({\n",
    "\t\t'i': i,\n",
    "\t\t'v': labels_splits_vectors[i],\n",
    "\n",
    "\t\t'cosine_k': cosine_ks[i],\n",
    "\t\t'js_k': js_ks[i],\n",
    "\t\t'tv_k': tv_ks[i],\n",
    "\n",
    "\t\t'cosine_peers': cosine_indices[i],\n",
    "\t\t'js_peers': js_indices[i],\n",
    "\t\t'tv_peers': tv_indices[i],\n",
    "\t})\n",
    "\n",
    "df = pd.DataFrame(df)\n",
    "\n",
    "melt_mapping = {\n",
    "\t'cosine': ('cosine_k', 'cosine_peers'),\n",
    "\t'js': ('js_k', 'js_peers'),\n",
    "\t'tv': ('tv_k', 'tv_peers')\n",
    "}\n",
    "dfs = []\n",
    "for type_, (k_col, peers_col) in melt_mapping.items():\n",
    "\ttemp = df[['i', 'v', k_col, peers_col]].copy()\n",
    "\ttemp = temp.rename(columns={k_col: 'k', peers_col: 'peers'})\n",
    "\ttemp['type'] = type_\n",
    "\tdfs.append(temp)\n",
    "\n",
    "df = pd.concat(dfs, ignore_index=True)\n",
    "df"
   ],
   "id": "cbf0a37d2eab2c79",
   "outputs": [],
   "execution_count": null
  },
  {
   "metadata": {},
   "cell_type": "code",
   "source": [
    "ks_fig = px.bar(\n",
    "\tdf,\n",
    "\tx='i', y='k', color='type',\n",
    "\ttitle='K Values per Nodes',\n",
    "\tbarmode='group', labels={'k': 'K', 'i': 'Node Index', 'type': 'Criteria'}\n",
    ")\n",
    "\n",
    "type_criteria_mapping = {\n",
    "\t'cosine': f\"Cosine ≥ {min_cosine}\",\n",
    "\t'js': f\"JS ≤ {max_js}\",\n",
    "\t'tv': f\"TV ≤ {max_tv}\"\n",
    "}\n",
    "for type_, criteria in type_criteria_mapping.items():\n",
    "\tks_fig.update_traces({'name': criteria}, selector={'name': type_})\n",
    "\n",
    "ks_fig.show()\n",
    "\n",
    "df_summ = df.groupby('type').agg(\n",
    "\tk_min=('k', 'min'),\n",
    "\tk_mean=('k', 'mean'),\n",
    "\tk_max=('k', 'max'),\n",
    "\tk_std=('k', 'std'),\n",
    ")\n",
    "df_summ.reset_index(inplace=True)\n",
    "# noinspection PyShadowingNames\n",
    "df_summ['criteria'] = df_summ['type'].apply(lambda type_: type_criteria_mapping[type_])\n",
    "df_summ.drop(columns='type', inplace=True)\n",
    "df_summ.set_index('criteria', inplace=True)\n",
    "\n",
    "df_summ"
   ],
   "id": "b013107afdcbfe9d",
   "outputs": [],
   "execution_count": null
  }
 ],
 "metadata": {
  "kernelspec": {
   "display_name": "Python 3",
   "language": "python",
   "name": "python3"
  },
  "language_info": {
   "codemirror_mode": {
    "name": "ipython",
    "version": 2
   },
   "file_extension": ".py",
   "mimetype": "text/x-python",
   "name": "python",
   "nbconvert_exporter": "python",
   "pygments_lexer": "ipython2",
   "version": "2.7.6"
  }
 },
 "nbformat": 4,
 "nbformat_minor": 5
}
